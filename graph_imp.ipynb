{
 "cells": [
  {
   "cell_type": "code",
   "execution_count": 1,
   "metadata": {},
   "outputs": [],
   "source": [
    "import logging\n",
    "from setting.db import SessionLocal\n",
    "from llm_inference.base import LLMInterface\n",
    "from graph.graph_knowledge_base import GraphKnowledgeBase\n",
    "from entity_cond import EntityCond\n",
    "\n",
    "logging.basicConfig(level=logging.INFO)\n",
    "\n",
    "llm_client = LLMInterface(\"gemini\", \"gemini-2.0-flash-thinking-exp-01-21\")\n",
    "gkb = GraphKnowledgeBase(llm_client, \"entities_150001\", \"relationships_150001\", \"chunks_150001\")\n",
    "\n",
    "ec = EntityCond(llm_client, gkb)"
   ]
  },
  {
   "cell_type": "code",
   "execution_count": 2,
   "metadata": {},
   "outputs": [],
   "source": [
    "query = \"\"\"在AI训练和推理国产过程中，数据库主要在哪些环节起到何种作用，这些业务需求对传统数据库提出哪些挑战，TiDB是如何面对这些挑战的\"\"\"\n",
    "model_kwargs = {\n",
    "    \"options\": {\n",
    "        \"num_ctx\": 8092,\n",
    "        \"num_gpu\": 80,\n",
    "        \"num_predict\": 10000,\n",
    "        \"temperature\": 0.1,\n",
    "    }\n",
    "}\n",
    "model_kwargs = {}"
   ]
  },
  {
   "cell_type": "code",
   "execution_count": null,
   "metadata": {},
   "outputs": [],
   "source": [
    "session = SessionLocal()\n",
    "res = ec.analyze(session, query, 20, **model_kwargs)"
   ]
  },
  {
   "cell_type": "code",
   "execution_count": null,
   "metadata": {},
   "outputs": [],
   "source": [
    "print(res['final_answer'])"
   ]
  },
  {
   "cell_type": "code",
   "execution_count": null,
   "metadata": {},
   "outputs": [],
   "source": [
    "res"
   ]
  },
  {
   "cell_type": "code",
   "execution_count": null,
   "metadata": {},
   "outputs": [],
   "source": [
    "ec.store_result(session, query, res['final_answer'], res['relationships'])"
   ]
  }
 ],
 "metadata": {
  "kernelspec": {
   "display_name": "graph",
   "language": "python",
   "name": "python3"
  },
  "language_info": {
   "codemirror_mode": {
    "name": "ipython",
    "version": 3
   },
   "file_extension": ".py",
   "mimetype": "text/x-python",
   "name": "python",
   "nbconvert_exporter": "python",
   "pygments_lexer": "ipython3",
   "version": "3.11.11"
  }
 },
 "nbformat": 4,
 "nbformat_minor": 2
}
