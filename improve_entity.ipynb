{
 "cells": [
  {
   "cell_type": "code",
   "execution_count": 1,
   "metadata": {},
   "outputs": [],
   "source": [
    "from entity_imp import EntityUp\n",
    "from setting.db import SessionLocal\n",
    "from llm_inference.base import LLMInterface\n",
    "\n",
    "# Initialize components\n",
    "session = SessionLocal()\n",
    "llm_client = LLMInterface(\"ollama\", \"deepseek-qwen-32b\")\n",
    "# llm_client = LLMInterface(\"openai\", \"gpt-4o\")\n",
    "upper = EntityUp(session, llm_client)"
   ]
  },
  {
   "cell_type": "code",
   "execution_count": null,
   "metadata": {},
   "outputs": [],
   "source": [
    "# Process entities\n",
    "success, errors = upper.process_batch(upper.get_poor_quality_entities, batch_size=10)\n",
    "print(f\"Processed entities - Success: {success}, Errors: {errors}\")"
   ]
  }
 ],
 "metadata": {
  "kernelspec": {
   "display_name": "graph",
   "language": "python",
   "name": "python3"
  },
  "language_info": {
   "codemirror_mode": {
    "name": "ipython",
    "version": 3
   },
   "file_extension": ".py",
   "mimetype": "text/x-python",
   "name": "python",
   "nbconvert_exporter": "python",
   "pygments_lexer": "ipython3",
   "version": "3.12.8"
  }
 },
 "nbformat": 4,
 "nbformat_minor": 2
}
